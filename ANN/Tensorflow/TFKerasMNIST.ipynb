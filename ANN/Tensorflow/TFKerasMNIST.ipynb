{
 "cells": [
  {
   "cell_type": "code",
   "execution_count": 1,
   "id": "b07702bd",
   "metadata": {
    "collapsed": true
   },
   "outputs": [
    {
     "name": "stderr",
     "output_type": "stream",
     "text": [
      "2022-02-07 13:03:02.662983: W tensorflow/stream_executor/platform/default/dso_loader.cc:64] Could not load dynamic library 'libcudart.so.11.0'; dlerror: libcudart.so.11.0: cannot open shared object file: No such file or directory\n",
      "2022-02-07 13:03:02.663022: I tensorflow/stream_executor/cuda/cudart_stub.cc:29] Ignore above cudart dlerror if you do not have a GPU set up on your machine.\n"
     ]
    }
   ],
   "source": [
    "import tensorflow as tf\n",
    "import tensorflow_datasets"
   ]
  },
  {
   "cell_type": "code",
   "execution_count": 2,
   "id": "9c484813",
   "metadata": {
    "collapsed": true
   },
   "outputs": [
    {
     "name": "stderr",
     "output_type": "stream",
     "text": [
      "2022-02-07 13:03:07.433019: W tensorflow/stream_executor/platform/default/dso_loader.cc:64] Could not load dynamic library 'libcuda.so.1'; dlerror: libcuda.so.1: cannot open shared object file: No such file or directory\n",
      "2022-02-07 13:03:07.433060: W tensorflow/stream_executor/cuda/cuda_driver.cc:269] failed call to cuInit: UNKNOWN ERROR (303)\n",
      "2022-02-07 13:03:07.433082: I tensorflow/stream_executor/cuda/cuda_diagnostics.cc:156] kernel driver does not appear to be running on this host (love-me): /proc/driver/nvidia/version does not exist\n",
      "2022-02-07 13:03:07.435344: I tensorflow/core/platform/cpu_feature_guard.cc:151] This TensorFlow binary is optimized with oneAPI Deep Neural Network Library (oneDNN) to use the following CPU instructions in performance-critical operations:  AVX2 FMA\n",
      "To enable them in other operations, rebuild TensorFlow with the appropriate compiler flags.\n"
     ]
    }
   ],
   "source": [
    "(train, test), info = tensorflow_datasets.load('mnist', split=['train', 'test'], \n",
    "                                                as_supervised=True, with_info=True)"
   ]
  },
  {
   "cell_type": "code",
   "execution_count": 3,
   "id": "60e25ef4",
   "metadata": {},
   "outputs": [
    {
     "name": "stdout",
     "output_type": "stream",
     "text": [
      "<PrefetchDataset element_spec=(TensorSpec(shape=(28, 28, 1), dtype=tf.uint8, name=None), TensorSpec(shape=(), dtype=tf.int64, name=None))>\n"
     ]
    }
   ],
   "source": [
    "print(train)"
   ]
  },
  {
   "cell_type": "code",
   "execution_count": 5,
   "id": "5c2d7ab8",
   "metadata": {},
   "outputs": [
    {
     "name": "stdout",
     "output_type": "stream",
     "text": [
      "<MapDataset element_spec=(TensorSpec(shape=(28, 28, 1), dtype=tf.float32, name=None), TensorSpec(shape=(), dtype=tf.int64, name=None))>\n"
     ]
    }
   ],
   "source": [
    "def normalize(image, label):\n",
    "    return tf.cast(image, tf.float32) / 256, label\n",
    "train = train.map(normalize)\n",
    "print(train)"
   ]
  },
  {
   "cell_type": "code",
   "execution_count": 6,
   "id": "46c8ff39",
   "metadata": {},
   "outputs": [],
   "source": [
    "train = train.cache()"
   ]
  },
  {
   "cell_type": "code",
   "execution_count": 7,
   "id": "84af8b31",
   "metadata": {},
   "outputs": [],
   "source": [
    "train = train.shuffle(info.splits['train'].num_examples)"
   ]
  },
  {
   "cell_type": "code",
   "execution_count": 9,
   "id": "acaf7f1d",
   "metadata": {},
   "outputs": [
    {
     "name": "stdout",
     "output_type": "stream",
     "text": [
      "60000\n"
     ]
    }
   ],
   "source": [
    "print(info.splits['train'].num_examples)"
   ]
  },
  {
   "cell_type": "code",
   "execution_count": 10,
   "id": "efe00ab7",
   "metadata": {},
   "outputs": [],
   "source": [
    "train = train.batch(256)"
   ]
  },
  {
   "cell_type": "code",
   "execution_count": 11,
   "id": "3ca998df",
   "metadata": {},
   "outputs": [],
   "source": [
    "train = train.prefetch(tf.data.experimental.AUTOTUNE)"
   ]
  },
  {
   "cell_type": "code",
   "execution_count": 12,
   "id": "fc6d1f27",
   "metadata": {},
   "outputs": [
    {
     "name": "stdout",
     "output_type": "stream",
     "text": [
      "<PrefetchDataset element_spec=(TensorSpec(shape=(None, 28, 28, 1), dtype=tf.float32, name=None), TensorSpec(shape=(None,), dtype=tf.int64, name=None))>\n"
     ]
    }
   ],
   "source": [
    "print(train)"
   ]
  },
  {
   "cell_type": "code",
   "execution_count": 13,
   "id": "145e1336",
   "metadata": {},
   "outputs": [
    {
     "name": "stdout",
     "output_type": "stream",
     "text": [
      "<MapDataset element_spec=(TensorSpec(shape=(28, 28, 1), dtype=tf.float32, name=None), TensorSpec(shape=(), dtype=tf.int64, name=None))>\n"
     ]
    }
   ],
   "source": [
    "test = test.map(normalize)\n",
    "print(test)"
   ]
  },
  {
   "cell_type": "code",
   "execution_count": 14,
   "id": "60d411d1",
   "metadata": {},
   "outputs": [],
   "source": [
    "test = test.batch(256)"
   ]
  },
  {
   "cell_type": "code",
   "execution_count": 15,
   "id": "a69e10da",
   "metadata": {},
   "outputs": [],
   "source": [
    "test = test.cache()"
   ]
  },
  {
   "cell_type": "code",
   "execution_count": 16,
   "id": "a8ee9966",
   "metadata": {},
   "outputs": [],
   "source": [
    "test = test.prefetch(tf.data.experimental.AUTOTUNE)"
   ]
  },
  {
   "cell_type": "code",
   "execution_count": 17,
   "id": "07382712",
   "metadata": {},
   "outputs": [],
   "source": [
    "model = tf.keras.models.Sequential([\n",
    "    tf.keras.layers.Flatten(input_shape=(28, 28)),\n",
    "    tf.keras.layers.Dense(100, activation='relu'),\n",
    "    tf.keras.layers.Dense(10, activation='softmax')\n",
    "])"
   ]
  },
  {
   "cell_type": "code",
   "execution_count": 18,
   "id": "d90dc5c0",
   "metadata": {},
   "outputs": [],
   "source": [
    "model.compile(optimizer=tf.keras.optimizers.Adam(0.001),\n",
    "              loss=tf.keras.losses.SparseCategoricalCrossentropy(from_logits=True),\n",
    "              metrics=[tf.keras.metrics.SparseCategoricalAccuracy()],\n",
    ")"
   ]
  },
  {
   "cell_type": "code",
   "execution_count": 19,
   "id": "e609ab47",
   "metadata": {},
   "outputs": [
    {
     "name": "stdout",
     "output_type": "stream",
     "text": [
      "Epoch 1/100\n"
     ]
    },
    {
     "name": "stderr",
     "output_type": "stream",
     "text": [
      "/home/amin/.local/lib/python3.10/site-packages/tensorflow/python/util/dispatch.py:1082: UserWarning: \"`sparse_categorical_crossentropy` received `from_logits=True`, but the `output` argument was produced by a sigmoid or softmax activation and thus does not represent logits. Was this intended?\"\n",
      "  return dispatch_target(*args, **kwargs)\n"
     ]
    },
    {
     "name": "stdout",
     "output_type": "stream",
     "text": [
      "235/235 [==============================] - 4s 5ms/step - loss: 2.1357 - sparse_categorical_accuracy: 0.5052 - val_loss: 13.5933 - val_sparse_categorical_accuracy: 0.5720\n",
      "Epoch 2/100\n",
      "235/235 [==============================] - 1s 3ms/step - loss: 1.5043 - sparse_categorical_accuracy: 0.7014 - val_loss: 30.0041 - val_sparse_categorical_accuracy: 0.6397\n",
      "Epoch 3/100\n",
      "235/235 [==============================] - 1s 3ms/step - loss: 1.0288 - sparse_categorical_accuracy: 0.7869 - val_loss: 33.7291 - val_sparse_categorical_accuracy: 0.7232\n",
      "Epoch 4/100\n",
      "235/235 [==============================] - 1s 3ms/step - loss: 0.7823 - sparse_categorical_accuracy: 0.8255 - val_loss: 34.5366 - val_sparse_categorical_accuracy: 0.7670\n",
      "Epoch 5/100\n",
      "235/235 [==============================] - 1s 3ms/step - loss: 0.6406 - sparse_categorical_accuracy: 0.8479 - val_loss: 36.4195 - val_sparse_categorical_accuracy: 0.7881\n",
      "Epoch 6/100\n",
      "235/235 [==============================] - 1s 3ms/step - loss: 0.5510 - sparse_categorical_accuracy: 0.8650 - val_loss: 39.3554 - val_sparse_categorical_accuracy: 0.7932\n",
      "Epoch 7/100\n",
      "235/235 [==============================] - 1s 3ms/step - loss: 0.4908 - sparse_categorical_accuracy: 0.8757 - val_loss: 41.4245 - val_sparse_categorical_accuracy: 0.8010\n",
      "Epoch 8/100\n",
      "235/235 [==============================] - 1s 3ms/step - loss: 0.4483 - sparse_categorical_accuracy: 0.8837 - val_loss: 43.2362 - val_sparse_categorical_accuracy: 0.8070\n",
      "Epoch 9/100\n",
      "235/235 [==============================] - 1s 3ms/step - loss: 0.4174 - sparse_categorical_accuracy: 0.8890 - val_loss: 45.3628 - val_sparse_categorical_accuracy: 0.8065\n",
      "Epoch 10/100\n",
      "235/235 [==============================] - 1s 3ms/step - loss: 0.3939 - sparse_categorical_accuracy: 0.8934 - val_loss: 45.0109 - val_sparse_categorical_accuracy: 0.8146\n",
      "Epoch 11/100\n",
      "235/235 [==============================] - 1s 3ms/step - loss: 0.3755 - sparse_categorical_accuracy: 0.8971 - val_loss: 45.5889 - val_sparse_categorical_accuracy: 0.8178\n",
      "Epoch 12/100\n",
      "235/235 [==============================] - 1s 3ms/step - loss: 0.3611 - sparse_categorical_accuracy: 0.9006 - val_loss: 45.8468 - val_sparse_categorical_accuracy: 0.8207\n",
      "Epoch 13/100\n",
      "235/235 [==============================] - 1s 3ms/step - loss: 0.3492 - sparse_categorical_accuracy: 0.9026 - val_loss: 45.6046 - val_sparse_categorical_accuracy: 0.8244\n",
      "Epoch 14/100\n",
      "235/235 [==============================] - 1s 3ms/step - loss: 0.3389 - sparse_categorical_accuracy: 0.9055 - val_loss: 45.2801 - val_sparse_categorical_accuracy: 0.8310\n",
      "Epoch 15/100\n",
      "235/235 [==============================] - 1s 3ms/step - loss: 0.3305 - sparse_categorical_accuracy: 0.9071 - val_loss: 44.2587 - val_sparse_categorical_accuracy: 0.8360\n",
      "Epoch 16/100\n",
      "235/235 [==============================] - 1s 3ms/step - loss: 0.3230 - sparse_categorical_accuracy: 0.9083 - val_loss: 44.5079 - val_sparse_categorical_accuracy: 0.8382\n",
      "Epoch 17/100\n",
      "235/235 [==============================] - 1s 3ms/step - loss: 0.3165 - sparse_categorical_accuracy: 0.9098 - val_loss: 42.3591 - val_sparse_categorical_accuracy: 0.8471\n",
      "Epoch 18/100\n",
      "235/235 [==============================] - 1s 3ms/step - loss: 0.3105 - sparse_categorical_accuracy: 0.9114 - val_loss: 42.3138 - val_sparse_categorical_accuracy: 0.8478\n",
      "Epoch 19/100\n",
      "235/235 [==============================] - 1s 3ms/step - loss: 0.3055 - sparse_categorical_accuracy: 0.9126 - val_loss: 42.2624 - val_sparse_categorical_accuracy: 0.8494\n",
      "Epoch 20/100\n",
      "235/235 [==============================] - 1s 3ms/step - loss: 0.3004 - sparse_categorical_accuracy: 0.9140 - val_loss: 40.8391 - val_sparse_categorical_accuracy: 0.8557\n",
      "Epoch 21/100\n",
      "235/235 [==============================] - 1s 3ms/step - loss: 0.2961 - sparse_categorical_accuracy: 0.9153 - val_loss: 40.0100 - val_sparse_categorical_accuracy: 0.8590\n",
      "Epoch 22/100\n",
      "235/235 [==============================] - 1s 3ms/step - loss: 0.2919 - sparse_categorical_accuracy: 0.9159 - val_loss: 39.8113 - val_sparse_categorical_accuracy: 0.8599\n",
      "Epoch 23/100\n",
      "235/235 [==============================] - 1s 4ms/step - loss: 0.2882 - sparse_categorical_accuracy: 0.9172 - val_loss: 38.5325 - val_sparse_categorical_accuracy: 0.8648\n",
      "Epoch 24/100\n",
      "235/235 [==============================] - 1s 3ms/step - loss: 0.2845 - sparse_categorical_accuracy: 0.9183 - val_loss: 38.3652 - val_sparse_categorical_accuracy: 0.8665\n",
      "Epoch 25/100\n",
      "235/235 [==============================] - 1s 3ms/step - loss: 0.2812 - sparse_categorical_accuracy: 0.9191 - val_loss: 37.6004 - val_sparse_categorical_accuracy: 0.8697\n",
      "Epoch 26/100\n",
      "235/235 [==============================] - 1s 3ms/step - loss: 0.2777 - sparse_categorical_accuracy: 0.9200 - val_loss: 36.8383 - val_sparse_categorical_accuracy: 0.8737\n",
      "Epoch 27/100\n",
      "235/235 [==============================] - 1s 3ms/step - loss: 0.2746 - sparse_categorical_accuracy: 0.9208 - val_loss: 35.8663 - val_sparse_categorical_accuracy: 0.8762\n",
      "Epoch 28/100\n",
      "235/235 [==============================] - 1s 3ms/step - loss: 0.2716 - sparse_categorical_accuracy: 0.9222 - val_loss: 35.5509 - val_sparse_categorical_accuracy: 0.8768\n",
      "Epoch 29/100\n",
      "235/235 [==============================] - 1s 3ms/step - loss: 0.2686 - sparse_categorical_accuracy: 0.9223 - val_loss: 35.0486 - val_sparse_categorical_accuracy: 0.8793\n",
      "Epoch 30/100\n",
      "235/235 [==============================] - 1s 3ms/step - loss: 0.2656 - sparse_categorical_accuracy: 0.9235 - val_loss: 35.1072 - val_sparse_categorical_accuracy: 0.8804\n",
      "Epoch 31/100\n",
      "235/235 [==============================] - 1s 3ms/step - loss: 0.2630 - sparse_categorical_accuracy: 0.9242 - val_loss: 34.3144 - val_sparse_categorical_accuracy: 0.8830\n",
      "Epoch 32/100\n",
      "235/235 [==============================] - 1s 3ms/step - loss: 0.2602 - sparse_categorical_accuracy: 0.9250 - val_loss: 33.6290 - val_sparse_categorical_accuracy: 0.8861\n",
      "Epoch 33/100\n",
      "235/235 [==============================] - 1s 3ms/step - loss: 0.2573 - sparse_categorical_accuracy: 0.9255 - val_loss: 33.1684 - val_sparse_categorical_accuracy: 0.8874\n",
      "Epoch 34/100\n",
      "235/235 [==============================] - 1s 3ms/step - loss: 0.2545 - sparse_categorical_accuracy: 0.9263 - val_loss: 32.7321 - val_sparse_categorical_accuracy: 0.8898\n",
      "Epoch 35/100\n",
      "235/235 [==============================] - 1s 3ms/step - loss: 0.2516 - sparse_categorical_accuracy: 0.9276 - val_loss: 32.4879 - val_sparse_categorical_accuracy: 0.8905\n",
      "Epoch 36/100\n",
      "235/235 [==============================] - 1s 3ms/step - loss: 0.2491 - sparse_categorical_accuracy: 0.9278 - val_loss: 32.1955 - val_sparse_categorical_accuracy: 0.8930\n",
      "Epoch 37/100\n",
      "235/235 [==============================] - 1s 3ms/step - loss: 0.2462 - sparse_categorical_accuracy: 0.9287 - val_loss: 31.3948 - val_sparse_categorical_accuracy: 0.8958\n",
      "Epoch 38/100\n",
      "235/235 [==============================] - 1s 3ms/step - loss: 0.2436 - sparse_categorical_accuracy: 0.9298 - val_loss: 30.9555 - val_sparse_categorical_accuracy: 0.8980\n",
      "Epoch 39/100\n",
      "235/235 [==============================] - 1s 3ms/step - loss: 0.2410 - sparse_categorical_accuracy: 0.9303 - val_loss: 30.8023 - val_sparse_categorical_accuracy: 0.8990\n",
      "Epoch 40/100\n",
      "235/235 [==============================] - 1s 3ms/step - loss: 0.2382 - sparse_categorical_accuracy: 0.9311 - val_loss: 30.0599 - val_sparse_categorical_accuracy: 0.9022\n",
      "Epoch 41/100\n",
      "235/235 [==============================] - 1s 3ms/step - loss: 0.2358 - sparse_categorical_accuracy: 0.9319 - val_loss: 29.6059 - val_sparse_categorical_accuracy: 0.9042\n",
      "Epoch 42/100\n",
      "235/235 [==============================] - 1s 3ms/step - loss: 0.2330 - sparse_categorical_accuracy: 0.9330 - val_loss: 29.3506 - val_sparse_categorical_accuracy: 0.9059\n",
      "Epoch 43/100\n",
      "235/235 [==============================] - 1s 3ms/step - loss: 0.2307 - sparse_categorical_accuracy: 0.9331 - val_loss: 29.0726 - val_sparse_categorical_accuracy: 0.9066\n",
      "Epoch 44/100\n",
      "235/235 [==============================] - 1s 3ms/step - loss: 0.2281 - sparse_categorical_accuracy: 0.9342 - val_loss: 28.5345 - val_sparse_categorical_accuracy: 0.9086\n",
      "Epoch 45/100\n",
      "235/235 [==============================] - 1s 3ms/step - loss: 0.2255 - sparse_categorical_accuracy: 0.9349 - val_loss: 28.3597 - val_sparse_categorical_accuracy: 0.9106\n"
     ]
    },
    {
     "name": "stdout",
     "output_type": "stream",
     "text": [
      "Epoch 46/100\n",
      "235/235 [==============================] - 1s 3ms/step - loss: 0.2228 - sparse_categorical_accuracy: 0.9352 - val_loss: 27.8449 - val_sparse_categorical_accuracy: 0.9124\n",
      "Epoch 47/100\n",
      "235/235 [==============================] - 1s 3ms/step - loss: 0.2205 - sparse_categorical_accuracy: 0.9358 - val_loss: 27.3530 - val_sparse_categorical_accuracy: 0.9144\n",
      "Epoch 48/100\n",
      "235/235 [==============================] - 1s 3ms/step - loss: 0.2179 - sparse_categorical_accuracy: 0.9370 - val_loss: 27.2293 - val_sparse_categorical_accuracy: 0.9145\n",
      "Epoch 49/100\n",
      "235/235 [==============================] - 1s 3ms/step - loss: 0.2155 - sparse_categorical_accuracy: 0.9376 - val_loss: 26.8210 - val_sparse_categorical_accuracy: 0.9158\n",
      "Epoch 50/100\n",
      "235/235 [==============================] - 1s 3ms/step - loss: 0.2131 - sparse_categorical_accuracy: 0.9385 - val_loss: 26.8251 - val_sparse_categorical_accuracy: 0.9162\n",
      "Epoch 51/100\n",
      "235/235 [==============================] - 1s 3ms/step - loss: 0.2107 - sparse_categorical_accuracy: 0.9392 - val_loss: 26.1930 - val_sparse_categorical_accuracy: 0.9188\n",
      "Epoch 52/100\n",
      "235/235 [==============================] - 1s 3ms/step - loss: 0.2085 - sparse_categorical_accuracy: 0.9399 - val_loss: 25.9507 - val_sparse_categorical_accuracy: 0.9203\n",
      "Epoch 53/100\n",
      "235/235 [==============================] - 1s 3ms/step - loss: 0.2061 - sparse_categorical_accuracy: 0.9408 - val_loss: 25.9206 - val_sparse_categorical_accuracy: 0.9203\n",
      "Epoch 54/100\n",
      "235/235 [==============================] - 1s 3ms/step - loss: 0.2039 - sparse_categorical_accuracy: 0.9413 - val_loss: 25.4195 - val_sparse_categorical_accuracy: 0.9215\n",
      "Epoch 55/100\n",
      "235/235 [==============================] - 1s 3ms/step - loss: 0.2018 - sparse_categorical_accuracy: 0.9421 - val_loss: 25.1862 - val_sparse_categorical_accuracy: 0.9219\n",
      "Epoch 56/100\n",
      "235/235 [==============================] - 1s 3ms/step - loss: 0.1993 - sparse_categorical_accuracy: 0.9428 - val_loss: 24.7357 - val_sparse_categorical_accuracy: 0.9238\n",
      "Epoch 57/100\n",
      "235/235 [==============================] - 1s 3ms/step - loss: 0.1971 - sparse_categorical_accuracy: 0.9433 - val_loss: 24.5085 - val_sparse_categorical_accuracy: 0.9247\n",
      "Epoch 58/100\n",
      "235/235 [==============================] - 1s 3ms/step - loss: 0.1951 - sparse_categorical_accuracy: 0.9441 - val_loss: 24.4879 - val_sparse_categorical_accuracy: 0.9248\n",
      "Epoch 59/100\n",
      "235/235 [==============================] - 1s 3ms/step - loss: 0.1928 - sparse_categorical_accuracy: 0.9445 - val_loss: 24.2553 - val_sparse_categorical_accuracy: 0.9260\n",
      "Epoch 60/100\n",
      "235/235 [==============================] - 1s 3ms/step - loss: 0.1906 - sparse_categorical_accuracy: 0.9456 - val_loss: 23.8162 - val_sparse_categorical_accuracy: 0.9269\n",
      "Epoch 61/100\n",
      "235/235 [==============================] - 1s 3ms/step - loss: 0.1884 - sparse_categorical_accuracy: 0.9459 - val_loss: 23.6680 - val_sparse_categorical_accuracy: 0.9269\n",
      "Epoch 62/100\n",
      "235/235 [==============================] - 1s 3ms/step - loss: 0.1864 - sparse_categorical_accuracy: 0.9466 - val_loss: 23.5639 - val_sparse_categorical_accuracy: 0.9277\n",
      "Epoch 63/100\n",
      "235/235 [==============================] - 1s 3ms/step - loss: 0.1845 - sparse_categorical_accuracy: 0.9469 - val_loss: 23.5537 - val_sparse_categorical_accuracy: 0.9282\n",
      "Epoch 64/100\n",
      "235/235 [==============================] - 1s 3ms/step - loss: 0.1822 - sparse_categorical_accuracy: 0.9478 - val_loss: 23.2998 - val_sparse_categorical_accuracy: 0.9291\n",
      "Epoch 65/100\n",
      "235/235 [==============================] - 1s 3ms/step - loss: 0.1803 - sparse_categorical_accuracy: 0.9486 - val_loss: 23.1844 - val_sparse_categorical_accuracy: 0.9290\n",
      "Epoch 66/100\n",
      "235/235 [==============================] - 1s 3ms/step - loss: 0.1784 - sparse_categorical_accuracy: 0.9490 - val_loss: 23.1041 - val_sparse_categorical_accuracy: 0.9299\n",
      "Epoch 67/100\n",
      "235/235 [==============================] - 1s 3ms/step - loss: 0.1766 - sparse_categorical_accuracy: 0.9494 - val_loss: 23.1487 - val_sparse_categorical_accuracy: 0.9304\n",
      "Epoch 68/100\n",
      "235/235 [==============================] - 1s 3ms/step - loss: 0.1744 - sparse_categorical_accuracy: 0.9499 - val_loss: 22.7490 - val_sparse_categorical_accuracy: 0.9312\n",
      "Epoch 69/100\n",
      "235/235 [==============================] - 1s 3ms/step - loss: 0.1726 - sparse_categorical_accuracy: 0.9505 - val_loss: 22.7117 - val_sparse_categorical_accuracy: 0.9314\n",
      "Epoch 70/100\n",
      "235/235 [==============================] - 1s 3ms/step - loss: 0.1708 - sparse_categorical_accuracy: 0.9509 - val_loss: 22.5555 - val_sparse_categorical_accuracy: 0.9313\n",
      "Epoch 71/100\n",
      "235/235 [==============================] - 1s 3ms/step - loss: 0.1689 - sparse_categorical_accuracy: 0.9516 - val_loss: 22.3735 - val_sparse_categorical_accuracy: 0.9321\n",
      "Epoch 72/100\n",
      "235/235 [==============================] - 1s 3ms/step - loss: 0.1672 - sparse_categorical_accuracy: 0.9518 - val_loss: 22.3968 - val_sparse_categorical_accuracy: 0.9318\n",
      "Epoch 73/100\n",
      "235/235 [==============================] - 1s 3ms/step - loss: 0.1653 - sparse_categorical_accuracy: 0.9527 - val_loss: 22.1633 - val_sparse_categorical_accuracy: 0.9325\n",
      "Epoch 74/100\n",
      "235/235 [==============================] - 1s 3ms/step - loss: 0.1637 - sparse_categorical_accuracy: 0.9532 - val_loss: 22.1082 - val_sparse_categorical_accuracy: 0.9325\n",
      "Epoch 75/100\n",
      "235/235 [==============================] - 1s 3ms/step - loss: 0.1619 - sparse_categorical_accuracy: 0.9539 - val_loss: 21.9997 - val_sparse_categorical_accuracy: 0.9333\n",
      "Epoch 76/100\n",
      "235/235 [==============================] - 1s 3ms/step - loss: 0.1602 - sparse_categorical_accuracy: 0.9543 - val_loss: 21.8924 - val_sparse_categorical_accuracy: 0.9331\n",
      "Epoch 77/100\n",
      "235/235 [==============================] - 1s 3ms/step - loss: 0.1585 - sparse_categorical_accuracy: 0.9546 - val_loss: 21.7570 - val_sparse_categorical_accuracy: 0.9343\n",
      "Epoch 78/100\n",
      "235/235 [==============================] - 1s 3ms/step - loss: 0.1568 - sparse_categorical_accuracy: 0.9550 - val_loss: 21.8894 - val_sparse_categorical_accuracy: 0.9337\n",
      "Epoch 79/100\n",
      "235/235 [==============================] - 1s 3ms/step - loss: 0.1553 - sparse_categorical_accuracy: 0.9556 - val_loss: 21.6284 - val_sparse_categorical_accuracy: 0.9348\n",
      "Epoch 80/100\n",
      "235/235 [==============================] - 1s 3ms/step - loss: 0.1537 - sparse_categorical_accuracy: 0.9564 - val_loss: 21.5092 - val_sparse_categorical_accuracy: 0.9347\n",
      "Epoch 81/100\n",
      "235/235 [==============================] - 1s 3ms/step - loss: 0.1522 - sparse_categorical_accuracy: 0.9566 - val_loss: 21.5275 - val_sparse_categorical_accuracy: 0.9351\n",
      "Epoch 82/100\n",
      "235/235 [==============================] - 1s 3ms/step - loss: 0.1507 - sparse_categorical_accuracy: 0.9572 - val_loss: 21.4081 - val_sparse_categorical_accuracy: 0.9354\n",
      "Epoch 83/100\n",
      "235/235 [==============================] - 1s 3ms/step - loss: 0.1492 - sparse_categorical_accuracy: 0.9576 - val_loss: 21.2982 - val_sparse_categorical_accuracy: 0.9358\n",
      "Epoch 84/100\n",
      "235/235 [==============================] - 1s 3ms/step - loss: 0.1477 - sparse_categorical_accuracy: 0.9580 - val_loss: 21.2419 - val_sparse_categorical_accuracy: 0.9363\n",
      "Epoch 85/100\n",
      "235/235 [==============================] - 1s 3ms/step - loss: 0.1463 - sparse_categorical_accuracy: 0.9585 - val_loss: 21.1971 - val_sparse_categorical_accuracy: 0.9367\n",
      "Epoch 86/100\n",
      "235/235 [==============================] - 1s 3ms/step - loss: 0.1449 - sparse_categorical_accuracy: 0.9586 - val_loss: 21.2980 - val_sparse_categorical_accuracy: 0.9365\n",
      "Epoch 87/100\n",
      "235/235 [==============================] - 1s 3ms/step - loss: 0.1433 - sparse_categorical_accuracy: 0.9589 - val_loss: 21.3388 - val_sparse_categorical_accuracy: 0.9368\n",
      "Epoch 88/100\n",
      "235/235 [==============================] - 1s 3ms/step - loss: 0.1420 - sparse_categorical_accuracy: 0.9596 - val_loss: 21.3568 - val_sparse_categorical_accuracy: 0.9366\n",
      "Epoch 89/100\n",
      "235/235 [==============================] - 1s 3ms/step - loss: 0.1406 - sparse_categorical_accuracy: 0.9603 - val_loss: 21.3475 - val_sparse_categorical_accuracy: 0.9363\n",
      "Epoch 90/100\n",
      "235/235 [==============================] - 1s 3ms/step - loss: 0.1393 - sparse_categorical_accuracy: 0.9605 - val_loss: 21.1902 - val_sparse_categorical_accuracy: 0.9368\n"
     ]
    },
    {
     "name": "stdout",
     "output_type": "stream",
     "text": [
      "Epoch 91/100\n",
      "235/235 [==============================] - 1s 3ms/step - loss: 0.1380 - sparse_categorical_accuracy: 0.9608 - val_loss: 21.0557 - val_sparse_categorical_accuracy: 0.9369\n",
      "Epoch 92/100\n",
      "235/235 [==============================] - 1s 3ms/step - loss: 0.1366 - sparse_categorical_accuracy: 0.9612 - val_loss: 21.2197 - val_sparse_categorical_accuracy: 0.9363\n",
      "Epoch 93/100\n",
      "235/235 [==============================] - 1s 3ms/step - loss: 0.1353 - sparse_categorical_accuracy: 0.9616 - val_loss: 21.2187 - val_sparse_categorical_accuracy: 0.9368\n",
      "Epoch 94/100\n",
      "235/235 [==============================] - 1s 3ms/step - loss: 0.1340 - sparse_categorical_accuracy: 0.9618 - val_loss: 21.1028 - val_sparse_categorical_accuracy: 0.9373\n",
      "Epoch 95/100\n",
      "235/235 [==============================] - 1s 3ms/step - loss: 0.1330 - sparse_categorical_accuracy: 0.9618 - val_loss: 21.1766 - val_sparse_categorical_accuracy: 0.9373\n",
      "Epoch 96/100\n",
      "235/235 [==============================] - 1s 3ms/step - loss: 0.1315 - sparse_categorical_accuracy: 0.9626 - val_loss: 21.0930 - val_sparse_categorical_accuracy: 0.9378\n",
      "Epoch 97/100\n",
      "235/235 [==============================] - 1s 3ms/step - loss: 0.1303 - sparse_categorical_accuracy: 0.9632 - val_loss: 21.1333 - val_sparse_categorical_accuracy: 0.9378\n",
      "Epoch 98/100\n",
      "235/235 [==============================] - 1s 3ms/step - loss: 0.1291 - sparse_categorical_accuracy: 0.9634 - val_loss: 21.2448 - val_sparse_categorical_accuracy: 0.9378\n",
      "Epoch 99/100\n",
      "235/235 [==============================] - 1s 3ms/step - loss: 0.1278 - sparse_categorical_accuracy: 0.9638 - val_loss: 21.4231 - val_sparse_categorical_accuracy: 0.9382\n",
      "Epoch 100/100\n",
      "235/235 [==============================] - 1s 3ms/step - loss: 0.1267 - sparse_categorical_accuracy: 0.9640 - val_loss: 21.3951 - val_sparse_categorical_accuracy: 0.9385\n"
     ]
    },
    {
     "data": {
      "text/plain": [
       "<keras.callbacks.History at 0x7fa53af172b0>"
      ]
     },
     "execution_count": 19,
     "metadata": {},
     "output_type": "execute_result"
    }
   ],
   "source": [
    "model.fit(train, epochs=100, validation_data=test)"
   ]
  },
  {
   "cell_type": "code",
   "execution_count": 20,
   "id": "43ac24d6",
   "metadata": {},
   "outputs": [
    {
     "data": {
      "text/plain": [
       "array([[0., 0., 1., ..., 0., 0., 0.],\n",
       "       [1., 0., 0., ..., 0., 0., 0.],\n",
       "       [0., 0., 0., ..., 0., 0., 0.],\n",
       "       ...,\n",
       "       [0., 0., 0., ..., 0., 1., 0.],\n",
       "       [1., 0., 0., ..., 0., 0., 0.],\n",
       "       [0., 0., 0., ..., 0., 0., 0.]], dtype=float32)"
      ]
     },
     "execution_count": 20,
     "metadata": {},
     "output_type": "execute_result"
    }
   ],
   "source": [
    "model.predict(test)"
   ]
  },
  {
   "cell_type": "code",
   "execution_count": 22,
   "id": "4d41a340",
   "metadata": {},
   "outputs": [
    {
     "name": "stdout",
     "output_type": "stream",
     "text": [
      "2\n"
     ]
    }
   ],
   "source": [
    "import numpy as np\n",
    "print(np.argmax(model.predict(test)[0]))"
   ]
  }
 ],
 "metadata": {
  "kernelspec": {
   "display_name": "Python 3 (ipykernel)",
   "language": "python",
   "name": "python3"
  },
  "language_info": {
   "codemirror_mode": {
    "name": "ipython",
    "version": 3
   },
   "file_extension": ".py",
   "mimetype": "text/x-python",
   "name": "python",
   "nbconvert_exporter": "python",
   "pygments_lexer": "ipython3",
   "version": "3.10.2"
  }
 },
 "nbformat": 4,
 "nbformat_minor": 5
}
