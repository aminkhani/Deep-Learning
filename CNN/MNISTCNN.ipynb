{
 "cells": [
  {
   "cell_type": "code",
   "execution_count": 1,
   "id": "2834cf84",
   "metadata": {},
   "outputs": [
    {
     "name": "stderr",
     "output_type": "stream",
     "text": [
      "2022-02-10 11:23:18.629240: W tensorflow/stream_executor/platform/default/dso_loader.cc:64] Could not load dynamic library 'libcudart.so.11.0'; dlerror: libcudart.so.11.0: cannot open shared object file: No such file or directory\n",
      "2022-02-10 11:23:18.629275: I tensorflow/stream_executor/cuda/cudart_stub.cc:29] Ignore above cudart dlerror if you do not have a GPU set up on your machine.\n"
     ]
    }
   ],
   "source": [
    "import mnist # pip install mnist\n",
    "import numpy as np\n",
    "from tensorflow.keras.models import Sequential\n",
    "from tensorflow.keras.layers import Flatten, Conv2D, MaxPool2D, Dense, ZeroPadding2D\n",
    "from tensorflow.keras.utils import to_categorical"
   ]
  },
  {
   "cell_type": "markdown",
   "id": "745ce7bb",
   "metadata": {},
   "source": [
    "### Load Data-> 2 Ways"
   ]
  },
  {
   "cell_type": "code",
   "execution_count": 2,
   "id": "0944ba48",
   "metadata": {},
   "outputs": [],
   "source": [
    "# X_train = mnist.train_images()\n",
    "# y_train = mnist.train_labels()\n",
    "# X_test = mnist.test_images()\n",
    "# y_test = mnist.test_labels()\n",
    "X_train = np.load('Datasets/MNIST/x_train.npy')\n",
    "y_train = np.load('Datasets/MNIST/y_train.npy')\n",
    "X_test = np.load('Datasets/MNIST/x_test.npy')\n",
    "y_test = np.load('Datasets/MNIST/y_test.npy')"
   ]
  },
  {
   "cell_type": "code",
   "execution_count": 3,
   "id": "6015e8a0",
   "metadata": {},
   "outputs": [],
   "source": [
    "def Normalize(data):\n",
    "    return data / 255"
   ]
  },
  {
   "cell_type": "code",
   "execution_count": 4,
   "id": "410196d9",
   "metadata": {},
   "outputs": [
    {
     "name": "stdout",
     "output_type": "stream",
     "text": [
      "(60000, 28, 28)   (10000, 28, 28)\n"
     ]
    }
   ],
   "source": [
    "X_train = Normalize(X_train)\n",
    "X_test = Normalize(X_test)\n",
    "print(X_train.shape, \" \", X_test.shape)"
   ]
  },
  {
   "cell_type": "code",
   "execution_count": 5,
   "id": "42ed1d10",
   "metadata": {},
   "outputs": [
    {
     "name": "stdout",
     "output_type": "stream",
     "text": [
      "(60000, 28, 28, 1)   (10000, 28, 28, 1)\n"
     ]
    }
   ],
   "source": [
    "X_train = np.expand_dims(X_train, axis=3)\n",
    "X_test = np.expand_dims(X_test, axis=3)\n",
    "print(X_train.shape, \" \", X_test.shape)"
   ]
  },
  {
   "cell_type": "code",
   "execution_count": 8,
   "id": "a0a39e03",
   "metadata": {},
   "outputs": [],
   "source": [
    "model = Sequential([\n",
    "    ZeroPadding2D(padding=(1, 1), input_shape=(28, 28, 1)),\n",
    "    Conv2D(32, 3, activation='relu'),\n",
    "    MaxPool2D(pool_size=(2, 2), strides=2),\n",
    "    ZeroPadding2D(padding=(1, 1)),\n",
    "    Conv2D(64, 3, activation='relu'),\n",
    "    MaxPool2D(pool_size=(2, 2), strides=2),\n",
    "    Flatten(),\n",
    "    Dense(128, activation='relu'),\n",
    "    Dense(10, activation='softmax')\n",
    "])"
   ]
  },
  {
   "cell_type": "code",
   "execution_count": 9,
   "id": "f37519f5",
   "metadata": {},
   "outputs": [
    {
     "name": "stdout",
     "output_type": "stream",
     "text": [
      "Model: \"sequential_1\"\n",
      "_________________________________________________________________\n",
      " Layer (type)                Output Shape              Param #   \n",
      "=================================================================\n",
      " zero_padding2d_2 (ZeroPaddi  (None, 30, 30, 1)        0         \n",
      " ng2D)                                                           \n",
      "                                                                 \n",
      " conv2d_2 (Conv2D)           (None, 28, 28, 32)        320       \n",
      "                                                                 \n",
      " max_pooling2d_2 (MaxPooling  (None, 14, 14, 32)       0         \n",
      " 2D)                                                             \n",
      "                                                                 \n",
      " zero_padding2d_3 (ZeroPaddi  (None, 16, 16, 32)       0         \n",
      " ng2D)                                                           \n",
      "                                                                 \n",
      " conv2d_3 (Conv2D)           (None, 14, 14, 64)        18496     \n",
      "                                                                 \n",
      " max_pooling2d_3 (MaxPooling  (None, 7, 7, 64)         0         \n",
      " 2D)                                                             \n",
      "                                                                 \n",
      " flatten_1 (Flatten)         (None, 3136)              0         \n",
      "                                                                 \n",
      " dense_2 (Dense)             (None, 128)               401536    \n",
      "                                                                 \n",
      " dense_3 (Dense)             (None, 10)                1290      \n",
      "                                                                 \n",
      "=================================================================\n",
      "Total params: 421,642\n",
      "Trainable params: 421,642\n",
      "Non-trainable params: 0\n",
      "_________________________________________________________________\n"
     ]
    }
   ],
   "source": [
    "model.summary()"
   ]
  },
  {
   "cell_type": "code",
   "execution_count": 10,
   "id": "21cf34c2",
   "metadata": {},
   "outputs": [],
   "source": [
    "model.compile(optimizer='adam', loss='categorical_crossentropy', metrics=['accuracy'])"
   ]
  },
  {
   "cell_type": "code",
   "execution_count": 11,
   "id": "6c868ee0",
   "metadata": {},
   "outputs": [],
   "source": [
    "y_train_OHE = to_categorical(y_train)\n",
    "y_test_OHE = to_categorical(y_test)"
   ]
  },
  {
   "cell_type": "code",
   "execution_count": 12,
   "id": "4d0fb564",
   "metadata": {},
   "outputs": [
    {
     "name": "stdout",
     "output_type": "stream",
     "text": [
      "Epoch 1/10\n",
      "235/235 [==============================] - 37s 155ms/step - loss: 0.2625 - accuracy: 0.9248 - val_loss: 0.0642 - val_accuracy: 0.9787\n",
      "Epoch 2/10\n",
      "235/235 [==============================] - 32s 136ms/step - loss: 0.0625 - accuracy: 0.9808 - val_loss: 0.0448 - val_accuracy: 0.9845\n",
      "Epoch 3/10\n",
      "235/235 [==============================] - 32s 135ms/step - loss: 0.0438 - accuracy: 0.9863 - val_loss: 0.0376 - val_accuracy: 0.9880\n",
      "Epoch 4/10\n",
      "235/235 [==============================] - 33s 142ms/step - loss: 0.0322 - accuracy: 0.9901 - val_loss: 0.0308 - val_accuracy: 0.9894\n",
      "Epoch 5/10\n",
      "235/235 [==============================] - 33s 142ms/step - loss: 0.0256 - accuracy: 0.9921 - val_loss: 0.0280 - val_accuracy: 0.9914\n",
      "Epoch 6/10\n",
      "235/235 [==============================] - 34s 146ms/step - loss: 0.0212 - accuracy: 0.9931 - val_loss: 0.0282 - val_accuracy: 0.9898\n",
      "Epoch 7/10\n",
      "235/235 [==============================] - 34s 144ms/step - loss: 0.0167 - accuracy: 0.9949 - val_loss: 0.0331 - val_accuracy: 0.9890\n",
      "Epoch 8/10\n",
      "235/235 [==============================] - 36s 154ms/step - loss: 0.0139 - accuracy: 0.9957 - val_loss: 0.0311 - val_accuracy: 0.9907\n",
      "Epoch 9/10\n",
      "235/235 [==============================] - 34s 143ms/step - loss: 0.0118 - accuracy: 0.9962 - val_loss: 0.0266 - val_accuracy: 0.9913\n",
      "Epoch 10/10\n",
      "235/235 [==============================] - 38s 163ms/step - loss: 0.0092 - accuracy: 0.9972 - val_loss: 0.0355 - val_accuracy: 0.9895\n"
     ]
    }
   ],
   "source": [
    "history = model.fit(X_train, y_train_OHE, epochs=10, validation_data=(X_test, y_test_OHE), batch_size=256)"
   ]
  },
  {
   "cell_type": "code",
   "execution_count": 13,
   "id": "336cdf54",
   "metadata": {},
   "outputs": [],
   "source": [
    "import matplotlib.pyplot as plt"
   ]
  },
  {
   "cell_type": "code",
   "execution_count": 14,
   "id": "260b0341",
   "metadata": {},
   "outputs": [
    {
     "data": {
      "text/plain": [
       "[<matplotlib.lines.Line2D at 0x7f050c22fd30>]"
      ]
     },
     "execution_count": 14,
     "metadata": {},
     "output_type": "execute_result"
    },
    {
     "data": {
      "image/png": "[encoded data removed]",
      "text/plain": [
       "<Figure size 432x288 with 1 Axes>"
      ]
     },
     "metadata": {
      "needs_background": "light"
     },
     "output_type": "display_data"
    }
   ],
   "source": [
    "plt.plot(history.history['loss'], color='green', label='Train Data')\n",
    "plt.plot(history.history['val_loss'], color='blue', label='Test Data')"
   ]
  },
  {
   "cell_type": "code",
   "execution_count": 15,
   "id": "76935d0d",
   "metadata": {},
   "outputs": [
    {
     "data": {
      "text/plain": [
       "[<matplotlib.lines.Line2D at 0x7f050c1437f0>]"
      ]
     },
     "execution_count": 15,
     "metadata": {},
     "output_type": "execute_result"
    },
    {
     "data": {
      "image/png": "[encoded data removed]",
      "text/plain": [
       "<Figure size 432x288 with 1 Axes>"
      ]
     },
     "metadata": {
      "needs_background": "light"
     },
     "output_type": "display_data"
    }
   ],
   "source": [
    "plt.plot(history.history['accuracy'], color='green', label='Train Data')\n",
    "plt.plot(history.history['val_accuracy'], color='blue', label='Test Data')"
   ]
  },
  {
   "cell_type": "code",
   "execution_count": null,
   "id": "0f90341e",
   "metadata": {},
   "outputs": [],
   "source": []
  }
 ],
 "metadata": {
  "kernelspec": {
   "display_name": "Python 3 (ipykernel)",
   "language": "python",
   "name": "python3"
  },
  "language_info": {
   "codemirror_mode": {
    "name": "ipython",
    "version": 3
   },
   "file_extension": ".py",
   "mimetype": "text/x-python",
   "name": "python",
   "nbconvert_exporter": "python",
   "pygments_lexer": "ipython3",
   "version": "3.10.2"
  }
 },
 "nbformat": 4,
 "nbformat_minor": 5
}
