{
  "nbformat": 4,
  "nbformat_minor": 0,
  "metadata": {
    "colab": {
      "name": "iris_keras.ipynb",
      "provenance": [],
      "collapsed_sections": [],
      "authorship_tag": "ABX9TyNZUzAinwCvwB2+RzNLyWF8",
      "include_colab_link": true
    },
    "kernelspec": {
      "name": "python3",
      "display_name": "Python 3"
    },
    "language_info": {
      "name": "python"
    }
  },
  "cells": [
    {
      "cell_type": "markdown",
      "metadata": {
        "id": "view-in-github",
        "colab_type": "text"
      },
      "source": [
        "<a href=\"https://colab.research.google.com/github/aminkhani/Deep-Learning/blob/main/iris_keras.ipynb\" target=\"_parent\"><img src=\"https://colab.research.google.com/assets/colab-badge.svg\" alt=\"Open In Colab\"/></a>"
      ]
    },
    {
      "cell_type": "code",
      "metadata": {
        "id": "YU8LHbVWhdQu"
      },
      "source": [
        "import numpy as np\n",
        "import matplotlib.pyplot as plt\n",
        "import keras\n",
        "import pandas as pd"
      ],
      "execution_count": 1,
      "outputs": []
    },
    {
      "cell_type": "code",
      "metadata": {
        "id": "pePS_Ye3hmiF"
      },
      "source": [
        "from sklearn.datasets import load_iris"
      ],
      "execution_count": 2,
      "outputs": []
    },
    {
      "cell_type": "code",
      "metadata": {
        "id": "hX0ukw6DiFjb"
      },
      "source": [
        "from sklearn.model_selection import train_test_split"
      ],
      "execution_count": 3,
      "outputs": []
    },
    {
      "cell_type": "code",
      "metadata": {
        "id": "x98_P7E9iJnp"
      },
      "source": [
        "data = load_iris()"
      ],
      "execution_count": 4,
      "outputs": []
    },
    {
      "cell_type": "code",
      "metadata": {
        "id": "EKAP0Cb_isMb"
      },
      "source": [
        "x = data.data\n",
        "y = data.target"
      ],
      "execution_count": 5,
      "outputs": []
    },
    {
      "cell_type": "code",
      "metadata": {
        "id": "WeKa5Rmdi2z2"
      },
      "source": [
        "x_train, x_test, y_train, y_test = train_test_split(x, y, test_size = 0.3, random_state = 123)"
      ],
      "execution_count": 6,
      "outputs": []
    },
    {
      "cell_type": "code",
      "metadata": {
        "colab": {
          "base_uri": "https://localhost:8080/"
        },
        "id": "KSluCSCCj3AK",
        "outputId": "01ec369f-4cfd-4690-9b97-d61d89053d63"
      },
      "source": [
        "print(x_train.shape)\n",
        "print(x_test.shape)\n",
        "print(y_train.shape)\n",
        "print(y_test.shape)"
      ],
      "execution_count": 7,
      "outputs": [
        {
          "output_type": "stream",
          "text": [
            "(105, 4)\n",
            "(45, 4)\n",
            "(105,)\n",
            "(45,)\n"
          ],
          "name": "stdout"
        }
      ]
    },
    {
      "cell_type": "code",
      "metadata": {
        "id": "o3R0jJBukj4v"
      },
      "source": [
        "x_val = x_train[:20]\n",
        "x_train = x_train[20:]"
      ],
      "execution_count": 8,
      "outputs": []
    },
    {
      "cell_type": "code",
      "metadata": {
        "colab": {
          "base_uri": "https://localhost:8080/"
        },
        "id": "sF-tX4Ohk1Dr",
        "outputId": "f1874f0e-ac21-4533-9da9-370c41fa0f6f"
      },
      "source": [
        "x_train.shape"
      ],
      "execution_count": 9,
      "outputs": [
        {
          "output_type": "execute_result",
          "data": {
            "text/plain": [
              "(85, 4)"
            ]
          },
          "metadata": {
            "tags": []
          },
          "execution_count": 9
        }
      ]
    },
    {
      "cell_type": "code",
      "metadata": {
        "id": "i8o4Tkruk2j2"
      },
      "source": [
        "from keras.utils import to_categorical\n",
        "y_train = to_categorical(y_train)\n",
        "y_test = to_categorical(y_test)"
      ],
      "execution_count": 10,
      "outputs": []
    },
    {
      "cell_type": "code",
      "metadata": {
        "id": "SEc7O14IlKJ5"
      },
      "source": [
        "y_val = y_train[:20]\n",
        "y_train = y_train[20:]"
      ],
      "execution_count": 11,
      "outputs": []
    },
    {
      "cell_type": "code",
      "metadata": {
        "id": "7H3cL_xNlLe_"
      },
      "source": [
        "from keras.models import Sequential\n",
        "net = Sequential()\n",
        "net.add(keras.layers.Dense(512, activation='relu', input_dim=(4)))\n",
        "net.add(keras.layers.Dense(3, activation='softmax'))"
      ],
      "execution_count": 12,
      "outputs": []
    },
    {
      "cell_type": "code",
      "metadata": {
        "id": "POO-yfJglmZo"
      },
      "source": [
        "net.compile(optimizer='adam', loss='categorical_crossentropy', metrics=['acc'])"
      ],
      "execution_count": 13,
      "outputs": []
    },
    {
      "cell_type": "code",
      "metadata": {
        "colab": {
          "base_uri": "https://localhost:8080/"
        },
        "id": "OWESjMyMmJ8x",
        "outputId": "27fb8392-59f6-441c-aee6-441df48b6909"
      },
      "source": [
        "net.fit(x_train, y_train, batch_size=64, epochs=100, validation_data=(x_val, y_val))"
      ],
      "execution_count": 14,
      "outputs": [
        {
          "output_type": "stream",
          "text": [
            "Epoch 1/100\n",
            "2/2 [==============================] - 1s 484ms/step - loss: 1.0196 - acc: 0.6240 - val_loss: 0.9649 - val_acc: 0.4500\n",
            "Epoch 2/100\n",
            "2/2 [==============================] - 0s 42ms/step - loss: 0.9372 - acc: 0.5405 - val_loss: 0.9248 - val_acc: 0.4000\n",
            "Epoch 3/100\n",
            "2/2 [==============================] - 0s 42ms/step - loss: 0.8859 - acc: 0.5066 - val_loss: 0.8703 - val_acc: 0.6000\n",
            "Epoch 4/100\n",
            "2/2 [==============================] - 0s 45ms/step - loss: 0.8388 - acc: 0.6606 - val_loss: 0.8119 - val_acc: 0.5000\n",
            "Epoch 5/100\n",
            "2/2 [==============================] - 0s 40ms/step - loss: 0.7835 - acc: 0.6345 - val_loss: 0.7604 - val_acc: 0.9500\n",
            "Epoch 6/100\n",
            "2/2 [==============================] - 0s 44ms/step - loss: 0.7333 - acc: 0.8616 - val_loss: 0.7148 - val_acc: 1.0000\n",
            "Epoch 7/100\n",
            "2/2 [==============================] - 0s 44ms/step - loss: 0.6928 - acc: 0.9661 - val_loss: 0.6738 - val_acc: 0.9500\n",
            "Epoch 8/100\n",
            "2/2 [==============================] - 0s 42ms/step - loss: 0.6604 - acc: 0.9739 - val_loss: 0.6378 - val_acc: 1.0000\n",
            "Epoch 9/100\n",
            "2/2 [==============================] - 0s 44ms/step - loss: 0.6274 - acc: 0.9739 - val_loss: 0.6072 - val_acc: 1.0000\n",
            "Epoch 10/100\n",
            "2/2 [==============================] - 0s 48ms/step - loss: 0.6018 - acc: 0.9713 - val_loss: 0.5803 - val_acc: 1.0000\n",
            "Epoch 11/100\n",
            "2/2 [==============================] - 0s 42ms/step - loss: 0.5757 - acc: 0.9530 - val_loss: 0.5583 - val_acc: 1.0000\n",
            "Epoch 12/100\n",
            "2/2 [==============================] - 0s 39ms/step - loss: 0.5682 - acc: 0.9869 - val_loss: 0.5395 - val_acc: 0.9500\n",
            "Epoch 13/100\n",
            "2/2 [==============================] - 0s 38ms/step - loss: 0.5412 - acc: 0.9661 - val_loss: 0.5173 - val_acc: 1.0000\n",
            "Epoch 14/100\n",
            "2/2 [==============================] - 0s 39ms/step - loss: 0.5184 - acc: 0.9739 - val_loss: 0.5002 - val_acc: 0.9500\n",
            "Epoch 15/100\n",
            "2/2 [==============================] - 0s 42ms/step - loss: 0.5124 - acc: 0.9191 - val_loss: 0.4842 - val_acc: 0.9500\n",
            "Epoch 16/100\n",
            "2/2 [==============================] - 0s 40ms/step - loss: 0.4921 - acc: 0.9400 - val_loss: 0.4686 - val_acc: 1.0000\n",
            "Epoch 17/100\n",
            "2/2 [==============================] - 0s 46ms/step - loss: 0.4733 - acc: 0.9452 - val_loss: 0.4544 - val_acc: 1.0000\n",
            "Epoch 18/100\n",
            "2/2 [==============================] - 0s 41ms/step - loss: 0.4598 - acc: 0.9608 - val_loss: 0.4423 - val_acc: 1.0000\n",
            "Epoch 19/100\n",
            "2/2 [==============================] - 0s 44ms/step - loss: 0.4465 - acc: 0.9922 - val_loss: 0.4311 - val_acc: 0.9500\n",
            "Epoch 20/100\n",
            "2/2 [==============================] - 0s 42ms/step - loss: 0.4391 - acc: 0.9661 - val_loss: 0.4193 - val_acc: 0.9500\n",
            "Epoch 21/100\n",
            "2/2 [==============================] - 0s 48ms/step - loss: 0.4292 - acc: 0.9869 - val_loss: 0.4072 - val_acc: 1.0000\n",
            "Epoch 22/100\n",
            "2/2 [==============================] - 0s 47ms/step - loss: 0.4142 - acc: 0.9843 - val_loss: 0.3962 - val_acc: 1.0000\n",
            "Epoch 23/100\n",
            "2/2 [==============================] - 0s 45ms/step - loss: 0.4055 - acc: 0.9869 - val_loss: 0.3866 - val_acc: 1.0000\n",
            "Epoch 24/100\n",
            "2/2 [==============================] - 0s 39ms/step - loss: 0.3966 - acc: 0.9922 - val_loss: 0.3774 - val_acc: 1.0000\n",
            "Epoch 25/100\n",
            "2/2 [==============================] - 0s 45ms/step - loss: 0.3912 - acc: 0.9869 - val_loss: 0.3670 - val_acc: 1.0000\n",
            "Epoch 26/100\n",
            "2/2 [==============================] - 0s 45ms/step - loss: 0.3798 - acc: 0.9661 - val_loss: 0.3572 - val_acc: 1.0000\n",
            "Epoch 27/100\n",
            "2/2 [==============================] - 0s 43ms/step - loss: 0.3743 - acc: 0.9608 - val_loss: 0.3482 - val_acc: 1.0000\n",
            "Epoch 28/100\n",
            "2/2 [==============================] - 0s 46ms/step - loss: 0.3675 - acc: 0.9661 - val_loss: 0.3393 - val_acc: 1.0000\n",
            "Epoch 29/100\n",
            "2/2 [==============================] - 0s 41ms/step - loss: 0.3545 - acc: 0.9713 - val_loss: 0.3312 - val_acc: 1.0000\n",
            "Epoch 30/100\n",
            "2/2 [==============================] - 0s 44ms/step - loss: 0.3500 - acc: 0.9791 - val_loss: 0.3245 - val_acc: 1.0000\n",
            "Epoch 31/100\n",
            "2/2 [==============================] - 0s 43ms/step - loss: 0.3473 - acc: 0.9791 - val_loss: 0.3175 - val_acc: 1.0000\n",
            "Epoch 32/100\n",
            "2/2 [==============================] - 0s 37ms/step - loss: 0.3288 - acc: 0.9869 - val_loss: 0.3078 - val_acc: 1.0000\n",
            "Epoch 33/100\n",
            "2/2 [==============================] - 0s 42ms/step - loss: 0.3236 - acc: 0.9869 - val_loss: 0.3001 - val_acc: 1.0000\n",
            "Epoch 34/100\n",
            "2/2 [==============================] - 0s 39ms/step - loss: 0.3279 - acc: 0.9608 - val_loss: 0.2934 - val_acc: 1.0000\n",
            "Epoch 35/100\n",
            "2/2 [==============================] - 0s 43ms/step - loss: 0.3104 - acc: 0.9713 - val_loss: 0.2862 - val_acc: 1.0000\n",
            "Epoch 36/100\n",
            "2/2 [==============================] - 0s 43ms/step - loss: 0.3027 - acc: 0.9661 - val_loss: 0.2811 - val_acc: 1.0000\n",
            "Epoch 37/100\n",
            "2/2 [==============================] - 0s 44ms/step - loss: 0.3060 - acc: 0.9713 - val_loss: 0.2745 - val_acc: 1.0000\n",
            "Epoch 38/100\n",
            "2/2 [==============================] - 0s 44ms/step - loss: 0.2867 - acc: 0.9869 - val_loss: 0.2670 - val_acc: 1.0000\n",
            "Epoch 39/100\n",
            "2/2 [==============================] - 0s 42ms/step - loss: 0.2834 - acc: 0.9661 - val_loss: 0.2618 - val_acc: 1.0000\n",
            "Epoch 40/100\n",
            "2/2 [==============================] - 0s 43ms/step - loss: 0.2912 - acc: 0.9791 - val_loss: 0.2616 - val_acc: 0.9500\n",
            "Epoch 41/100\n",
            "2/2 [==============================] - 0s 45ms/step - loss: 0.2798 - acc: 0.9661 - val_loss: 0.2536 - val_acc: 1.0000\n",
            "Epoch 42/100\n",
            "2/2 [==============================] - 0s 49ms/step - loss: 0.2754 - acc: 0.9869 - val_loss: 0.2448 - val_acc: 1.0000\n",
            "Epoch 43/100\n",
            "2/2 [==============================] - 0s 44ms/step - loss: 0.2733 - acc: 0.9661 - val_loss: 0.2401 - val_acc: 1.0000\n",
            "Epoch 44/100\n",
            "2/2 [==============================] - 0s 45ms/step - loss: 0.2702 - acc: 0.9608 - val_loss: 0.2356 - val_acc: 1.0000\n",
            "Epoch 45/100\n",
            "2/2 [==============================] - 0s 45ms/step - loss: 0.2485 - acc: 0.9843 - val_loss: 0.2426 - val_acc: 0.9500\n",
            "Epoch 46/100\n",
            "2/2 [==============================] - 0s 46ms/step - loss: 0.2567 - acc: 0.9582 - val_loss: 0.2444 - val_acc: 0.9500\n",
            "Epoch 47/100\n",
            "2/2 [==============================] - 0s 44ms/step - loss: 0.2649 - acc: 0.9400 - val_loss: 0.2291 - val_acc: 0.9500\n",
            "Epoch 48/100\n",
            "2/2 [==============================] - 0s 45ms/step - loss: 0.2530 - acc: 0.9608 - val_loss: 0.2163 - val_acc: 1.0000\n",
            "Epoch 49/100\n",
            "2/2 [==============================] - 0s 49ms/step - loss: 0.2443 - acc: 0.9843 - val_loss: 0.2113 - val_acc: 1.0000\n",
            "Epoch 50/100\n",
            "2/2 [==============================] - 0s 40ms/step - loss: 0.2473 - acc: 0.9608 - val_loss: 0.2070 - val_acc: 1.0000\n",
            "Epoch 51/100\n",
            "2/2 [==============================] - 0s 42ms/step - loss: 0.2394 - acc: 0.9661 - val_loss: 0.2032 - val_acc: 1.0000\n",
            "Epoch 52/100\n",
            "2/2 [==============================] - 0s 40ms/step - loss: 0.2309 - acc: 0.9869 - val_loss: 0.2082 - val_acc: 0.9500\n",
            "Epoch 53/100\n",
            "2/2 [==============================] - 0s 40ms/step - loss: 0.2304 - acc: 0.9608 - val_loss: 0.2121 - val_acc: 0.9500\n",
            "Epoch 54/100\n",
            "2/2 [==============================] - 0s 46ms/step - loss: 0.2333 - acc: 0.9530 - val_loss: 0.1981 - val_acc: 0.9500\n",
            "Epoch 55/100\n",
            "2/2 [==============================] - 0s 37ms/step - loss: 0.2203 - acc: 0.9739 - val_loss: 0.1883 - val_acc: 1.0000\n",
            "Epoch 56/100\n",
            "2/2 [==============================] - 0s 47ms/step - loss: 0.2161 - acc: 0.9869 - val_loss: 0.1843 - val_acc: 1.0000\n",
            "Epoch 57/100\n",
            "2/2 [==============================] - 0s 44ms/step - loss: 0.2090 - acc: 0.9713 - val_loss: 0.1816 - val_acc: 1.0000\n",
            "Epoch 58/100\n",
            "2/2 [==============================] - 0s 51ms/step - loss: 0.2158 - acc: 0.9608 - val_loss: 0.1780 - val_acc: 1.0000\n",
            "Epoch 59/100\n",
            "2/2 [==============================] - 0s 47ms/step - loss: 0.2132 - acc: 0.9739 - val_loss: 0.1774 - val_acc: 1.0000\n",
            "Epoch 60/100\n",
            "2/2 [==============================] - 0s 50ms/step - loss: 0.2078 - acc: 0.9869 - val_loss: 0.1791 - val_acc: 0.9500\n",
            "Epoch 61/100\n",
            "2/2 [==============================] - 0s 49ms/step - loss: 0.2012 - acc: 0.9661 - val_loss: 0.1753 - val_acc: 1.0000\n",
            "Epoch 62/100\n",
            "2/2 [==============================] - 0s 42ms/step - loss: 0.2030 - acc: 0.9608 - val_loss: 0.1675 - val_acc: 1.0000\n",
            "Epoch 63/100\n",
            "2/2 [==============================] - 0s 42ms/step - loss: 0.1904 - acc: 0.9869 - val_loss: 0.1628 - val_acc: 1.0000\n",
            "Epoch 64/100\n",
            "2/2 [==============================] - 0s 51ms/step - loss: 0.1874 - acc: 0.9739 - val_loss: 0.1598 - val_acc: 1.0000\n",
            "Epoch 65/100\n",
            "2/2 [==============================] - 0s 44ms/step - loss: 0.1967 - acc: 0.9608 - val_loss: 0.1577 - val_acc: 1.0000\n",
            "Epoch 66/100\n",
            "2/2 [==============================] - 0s 44ms/step - loss: 0.1946 - acc: 0.9869 - val_loss: 0.1592 - val_acc: 1.0000\n",
            "Epoch 67/100\n",
            "2/2 [==============================] - 0s 45ms/step - loss: 0.1860 - acc: 0.9739 - val_loss: 0.1599 - val_acc: 0.9500\n",
            "Epoch 68/100\n",
            "2/2 [==============================] - 0s 49ms/step - loss: 0.1834 - acc: 0.9661 - val_loss: 0.1587 - val_acc: 0.9500\n",
            "Epoch 69/100\n",
            "2/2 [==============================] - 0s 46ms/step - loss: 0.1795 - acc: 0.9661 - val_loss: 0.1550 - val_acc: 0.9500\n",
            "Epoch 70/100\n",
            "2/2 [==============================] - 0s 43ms/step - loss: 0.1818 - acc: 0.9608 - val_loss: 0.1468 - val_acc: 1.0000\n",
            "Epoch 71/100\n",
            "2/2 [==============================] - 0s 49ms/step - loss: 0.1768 - acc: 0.9869 - val_loss: 0.1412 - val_acc: 1.0000\n",
            "Epoch 72/100\n",
            "2/2 [==============================] - 0s 47ms/step - loss: 0.1743 - acc: 0.9661 - val_loss: 0.1387 - val_acc: 1.0000\n",
            "Epoch 73/100\n",
            "2/2 [==============================] - 0s 44ms/step - loss: 0.1704 - acc: 0.9661 - val_loss: 0.1387 - val_acc: 1.0000\n",
            "Epoch 74/100\n",
            "2/2 [==============================] - 0s 39ms/step - loss: 0.1672 - acc: 0.9869 - val_loss: 0.1422 - val_acc: 1.0000\n",
            "Epoch 75/100\n",
            "2/2 [==============================] - 0s 40ms/step - loss: 0.1723 - acc: 0.9608 - val_loss: 0.1403 - val_acc: 1.0000\n",
            "Epoch 76/100\n",
            "2/2 [==============================] - 0s 44ms/step - loss: 0.1622 - acc: 0.9713 - val_loss: 0.1345 - val_acc: 1.0000\n",
            "Epoch 77/100\n",
            "2/2 [==============================] - 0s 48ms/step - loss: 0.1638 - acc: 0.9869 - val_loss: 0.1299 - val_acc: 1.0000\n",
            "Epoch 78/100\n",
            "2/2 [==============================] - 0s 42ms/step - loss: 0.1616 - acc: 0.9869 - val_loss: 0.1263 - val_acc: 1.0000\n",
            "Epoch 79/100\n",
            "2/2 [==============================] - 0s 41ms/step - loss: 0.1619 - acc: 0.9791 - val_loss: 0.1237 - val_acc: 1.0000\n",
            "Epoch 80/100\n",
            "2/2 [==============================] - 0s 49ms/step - loss: 0.1602 - acc: 0.9608 - val_loss: 0.1219 - val_acc: 1.0000\n",
            "Epoch 81/100\n",
            "2/2 [==============================] - 0s 45ms/step - loss: 0.1502 - acc: 0.9739 - val_loss: 0.1209 - val_acc: 1.0000\n",
            "Epoch 82/100\n",
            "2/2 [==============================] - 0s 47ms/step - loss: 0.1567 - acc: 0.9869 - val_loss: 0.1216 - val_acc: 1.0000\n",
            "Epoch 83/100\n",
            "2/2 [==============================] - 0s 51ms/step - loss: 0.1505 - acc: 0.9869 - val_loss: 0.1205 - val_acc: 1.0000\n",
            "Epoch 84/100\n",
            "2/2 [==============================] - 0s 47ms/step - loss: 0.1441 - acc: 0.9869 - val_loss: 0.1157 - val_acc: 1.0000\n",
            "Epoch 85/100\n",
            "2/2 [==============================] - 0s 56ms/step - loss: 0.1390 - acc: 0.9922 - val_loss: 0.1128 - val_acc: 1.0000\n",
            "Epoch 86/100\n",
            "2/2 [==============================] - 0s 43ms/step - loss: 0.1520 - acc: 0.9661 - val_loss: 0.1119 - val_acc: 1.0000\n",
            "Epoch 87/100\n",
            "2/2 [==============================] - 0s 53ms/step - loss: 0.1447 - acc: 0.9869 - val_loss: 0.1142 - val_acc: 1.0000\n",
            "Epoch 88/100\n",
            "2/2 [==============================] - 0s 46ms/step - loss: 0.1397 - acc: 0.9869 - val_loss: 0.1177 - val_acc: 0.9500\n",
            "Epoch 89/100\n",
            "2/2 [==============================] - 0s 44ms/step - loss: 0.1487 - acc: 0.9608 - val_loss: 0.1158 - val_acc: 1.0000\n",
            "Epoch 90/100\n",
            "2/2 [==============================] - 0s 43ms/step - loss: 0.1425 - acc: 0.9661 - val_loss: 0.1105 - val_acc: 1.0000\n",
            "Epoch 91/100\n",
            "2/2 [==============================] - 0s 58ms/step - loss: 0.1397 - acc: 0.9922 - val_loss: 0.1054 - val_acc: 1.0000\n",
            "Epoch 92/100\n",
            "2/2 [==============================] - 0s 52ms/step - loss: 0.1355 - acc: 0.9922 - val_loss: 0.1032 - val_acc: 1.0000\n",
            "Epoch 93/100\n",
            "2/2 [==============================] - 0s 45ms/step - loss: 0.1374 - acc: 0.9869 - val_loss: 0.1025 - val_acc: 1.0000\n",
            "Epoch 94/100\n",
            "2/2 [==============================] - 0s 45ms/step - loss: 0.1303 - acc: 0.9922 - val_loss: 0.1028 - val_acc: 1.0000\n",
            "Epoch 95/100\n",
            "2/2 [==============================] - 0s 44ms/step - loss: 0.1309 - acc: 0.9922 - val_loss: 0.1038 - val_acc: 1.0000\n",
            "Epoch 96/100\n",
            "2/2 [==============================] - 0s 46ms/step - loss: 0.1337 - acc: 0.9922 - val_loss: 0.1017 - val_acc: 1.0000\n",
            "Epoch 97/100\n",
            "2/2 [==============================] - 0s 41ms/step - loss: 0.1350 - acc: 0.9869 - val_loss: 0.1001 - val_acc: 1.0000\n",
            "Epoch 98/100\n",
            "2/2 [==============================] - 0s 43ms/step - loss: 0.1252 - acc: 0.9922 - val_loss: 0.0991 - val_acc: 1.0000\n",
            "Epoch 99/100\n",
            "2/2 [==============================] - 0s 48ms/step - loss: 0.1305 - acc: 0.9869 - val_loss: 0.0995 - val_acc: 1.0000\n",
            "Epoch 100/100\n",
            "2/2 [==============================] - 0s 44ms/step - loss: 0.1222 - acc: 0.9922 - val_loss: 0.0988 - val_acc: 1.0000\n"
          ],
          "name": "stdout"
        },
        {
          "output_type": "execute_result",
          "data": {
            "text/plain": [
              "<tensorflow.python.keras.callbacks.History at 0x7fdb83a2b150>"
            ]
          },
          "metadata": {
            "tags": []
          },
          "execution_count": 14
        }
      ]
    },
    {
      "cell_type": "code",
      "metadata": {
        "colab": {
          "base_uri": "https://localhost:8080/"
        },
        "id": "mnCYpKuSmUWE",
        "outputId": "609d3e1e-4881-48ab-ca19-6a02d63752df"
      },
      "source": [
        "net.evaluate(x_test, y_test)"
      ],
      "execution_count": 15,
      "outputs": [
        {
          "output_type": "stream",
          "text": [
            "2/2 [==============================] - 0s 6ms/step - loss: 0.1529 - acc: 0.9333\n"
          ],
          "name": "stdout"
        },
        {
          "output_type": "execute_result",
          "data": {
            "text/plain": [
              "[0.15286798775196075, 0.9333333373069763]"
            ]
          },
          "metadata": {
            "tags": []
          },
          "execution_count": 15
        }
      ]
    },
    {
      "cell_type": "code",
      "metadata": {
        "id": "95dU38iFm9XC"
      },
      "source": [
        ""
      ],
      "execution_count": null,
      "outputs": []
    }
  ]
}