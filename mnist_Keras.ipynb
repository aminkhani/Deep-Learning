{
  "nbformat": 4,
  "nbformat_minor": 0,
  "metadata": {
    "colab": {
      "name": "mnist-Keras.ipynb",
      "provenance": [],
      "collapsed_sections": [],
      "authorship_tag": "ABX9TyMdjBFZZDpOWSaANMieN1LM",
      "include_colab_link": true
    },
    "kernelspec": {
      "name": "python3",
      "display_name": "Python 3"
    },
    "language_info": {
      "name": "python"
    }
  },
  "cells": [
    {
      "cell_type": "markdown",
      "metadata": {
        "id": "view-in-github",
        "colab_type": "text"
      },
      "source": [
        "<a href=\"https://colab.research.google.com/github/aminkhani/Deep-Learning/blob/main/mnist_Keras.ipynb\" target=\"_parent\"><img src=\"https://colab.research.google.com/assets/colab-badge.svg\" alt=\"Open In Colab\"/></a>"
      ]
    },
    {
      "cell_type": "code",
      "metadata": {
        "id": "czz6byDPGcZG"
      },
      "source": [
        "import keras\n",
        "import numpy as np\n",
        "import matplotlib.pyplot as plt"
      ],
      "execution_count": null,
      "outputs": []
    },
    {
      "cell_type": "markdown",
      "metadata": {
        "id": "3sqfMa1iG9W8"
      },
      "source": [
        "### 1 - Load mnist Data"
      ]
    },
    {
      "cell_type": "code",
      "metadata": {
        "id": "ft9eY3QeHVmB"
      },
      "source": [
        "from keras.datasets import mnist\n",
        "(x_train, y_train), (x_test, y_test) = mnist.load_data()"
      ],
      "execution_count": null,
      "outputs": []
    },
    {
      "cell_type": "markdown",
      "metadata": {
        "id": "9ox-OP4XHqf4"
      },
      "source": [
        "**preprocessing On Data**"
      ]
    },
    {
      "cell_type": "code",
      "metadata": {
        "colab": {
          "base_uri": "https://localhost:8080/"
        },
        "id": "HjdJep1qHjtG",
        "outputId": "2823ed10-520a-47ee-dfd8-3f13c625c1d7"
      },
      "source": [
        "print(x_train.shape)\n",
        "print(y_train.shape)\n",
        "print(x_test.shape)\n",
        "print(y_test.shape)"
      ],
      "execution_count": null,
      "outputs": [
        {
          "output_type": "stream",
          "text": [
            "(60000, 28, 28)\n",
            "(60000,)\n",
            "(10000, 28, 28)\n",
            "(10000,)\n"
          ],
          "name": "stdout"
        }
      ]
    },
    {
      "cell_type": "code",
      "metadata": {
        "id": "JanNRBBQIDBb"
      },
      "source": [
        "x_train = x_train.reshape((-1, 28 * 28))\n",
        "x_test = x_test.reshape((-1, 28 * 28))"
      ],
      "execution_count": null,
      "outputs": []
    },
    {
      "cell_type": "code",
      "metadata": {
        "id": "-WLWBLscaLp0"
      },
      "source": [
        "x_val = x_train[:10000]\n",
        "x_train = x_train[10000:]"
      ],
      "execution_count": null,
      "outputs": []
    },
    {
      "cell_type": "code",
      "metadata": {
        "id": "NMLy8q1QISDA"
      },
      "source": [
        "from keras.utils import to_categorical # One-Hot\n",
        "y_train = to_categorical(y_train)\n",
        "y_test = to_categorical(y_test)"
      ],
      "execution_count": null,
      "outputs": []
    },
    {
      "cell_type": "code",
      "metadata": {
        "id": "8MCnMNWLaVBo"
      },
      "source": [
        "y_val = y_train[:10000]\n",
        "y_train = y_train[10000:]"
      ],
      "execution_count": null,
      "outputs": []
    },
    {
      "cell_type": "code",
      "metadata": {
        "colab": {
          "base_uri": "https://localhost:8080/"
        },
        "id": "UceaWtC-aGHi",
        "outputId": "7c21f677-6f64-4756-e352-b8b13abbac1e"
      },
      "source": [
        "print(x_train.shape)\n",
        "print(y_train.shape)\n",
        "print(x_test.shape)\n",
        "print(y_test.shape)\n",
        "print(x_val.shape)\n",
        "print(y_val.shape)"
      ],
      "execution_count": null,
      "outputs": [
        {
          "output_type": "stream",
          "text": [
            "(50000, 784)\n",
            "(50000, 10)\n",
            "(10000, 784)\n",
            "(10000, 10)\n",
            "(10000, 784)\n",
            "(10000, 10)\n"
          ],
          "name": "stdout"
        }
      ]
    },
    {
      "cell_type": "markdown",
      "metadata": {
        "id": "tHrJ93dhgVzG"
      },
      "source": [
        "Normilize"
      ]
    },
    {
      "cell_type": "code",
      "metadata": {
        "id": "2AcvkCp_gVfJ"
      },
      "source": [
        "x_train = x_train.astype('float32') / 255\n",
        "x_val = x_val.astype('float32') / 255"
      ],
      "execution_count": null,
      "outputs": []
    },
    {
      "cell_type": "markdown",
      "metadata": {
        "id": "kS_CHczWarSY"
      },
      "source": [
        "### 2 - Build an architectural network"
      ]
    },
    {
      "cell_type": "code",
      "metadata": {
        "id": "MxTubr9laIJD"
      },
      "source": [
        "from keras.models import Sequential\n",
        "network = Sequential()\n",
        "network.add(keras.layers.Dense(512, activation='relu', input_shape=(28 * 28,))) #Hyper Parameters\n",
        "network.add(keras.layers.Dense(10, activation='softmax'))"
      ],
      "execution_count": null,
      "outputs": []
    },
    {
      "cell_type": "markdown",
      "metadata": {
        "id": "ojOskwRWbVvD"
      },
      "source": [
        "### 4 - Complie"
      ]
    },
    {
      "cell_type": "code",
      "metadata": {
        "id": "60qhDsf-bBBF"
      },
      "source": [
        "network.compile(optimizer='rmsprop',\n",
        "                loss='categorical_crossentropy',\n",
        "                metrics=['accuracy'])"
      ],
      "execution_count": null,
      "outputs": []
    },
    {
      "cell_type": "markdown",
      "metadata": {
        "id": "8_-z8D1ebrQr"
      },
      "source": [
        "### 5 - Train The Model"
      ]
    },
    {
      "cell_type": "code",
      "metadata": {
        "colab": {
          "base_uri": "https://localhost:8080/"
        },
        "id": "eUenDAFubjQC",
        "outputId": "93de4a2c-1ec8-4fac-ffd2-9ac855e937ba"
      },
      "source": [
        "history = network.fit(x_train, y_train, batch_size=64,\n",
        "                      epochs=50 , validation_data=(x_val, y_val))"
      ],
      "execution_count": null,
      "outputs": [
        {
          "output_type": "stream",
          "text": [
            "Epoch 1/50\n",
            "782/782 [==============================] - 8s 9ms/step - loss: 0.3999 - accuracy: 0.8813 - val_loss: 0.1410 - val_accuracy: 0.9585\n",
            "Epoch 2/50\n",
            "782/782 [==============================] - 6s 8ms/step - loss: 0.1050 - accuracy: 0.9683 - val_loss: 0.1031 - val_accuracy: 0.9703\n",
            "Epoch 3/50\n",
            "782/782 [==============================] - 6s 8ms/step - loss: 0.0678 - accuracy: 0.9789 - val_loss: 0.0826 - val_accuracy: 0.9766\n",
            "Epoch 4/50\n",
            "782/782 [==============================] - 6s 8ms/step - loss: 0.0464 - accuracy: 0.9858 - val_loss: 0.0858 - val_accuracy: 0.9755\n",
            "Epoch 5/50\n",
            "782/782 [==============================] - 6s 8ms/step - loss: 0.0321 - accuracy: 0.9910 - val_loss: 0.0788 - val_accuracy: 0.9790\n",
            "Epoch 6/50\n",
            "782/782 [==============================] - 6s 8ms/step - loss: 0.0277 - accuracy: 0.9915 - val_loss: 0.0813 - val_accuracy: 0.9786\n",
            "Epoch 7/50\n",
            "782/782 [==============================] - 6s 8ms/step - loss: 0.0209 - accuracy: 0.9938 - val_loss: 0.0836 - val_accuracy: 0.9796\n",
            "Epoch 8/50\n",
            "782/782 [==============================] - 6s 8ms/step - loss: 0.0143 - accuracy: 0.9957 - val_loss: 0.1020 - val_accuracy: 0.9758\n",
            "Epoch 9/50\n",
            "782/782 [==============================] - 6s 8ms/step - loss: 0.0111 - accuracy: 0.9968 - val_loss: 0.1008 - val_accuracy: 0.9772\n",
            "Epoch 10/50\n",
            "782/782 [==============================] - 6s 8ms/step - loss: 0.0100 - accuracy: 0.9967 - val_loss: 0.0943 - val_accuracy: 0.9791\n",
            "Epoch 11/50\n",
            "782/782 [==============================] - 6s 8ms/step - loss: 0.0069 - accuracy: 0.9979 - val_loss: 0.0924 - val_accuracy: 0.9812\n",
            "Epoch 12/50\n",
            "782/782 [==============================] - 6s 8ms/step - loss: 0.0058 - accuracy: 0.9983 - val_loss: 0.1040 - val_accuracy: 0.9793\n",
            "Epoch 13/50\n",
            "782/782 [==============================] - 6s 8ms/step - loss: 0.0034 - accuracy: 0.9991 - val_loss: 0.1061 - val_accuracy: 0.9798\n",
            "Epoch 14/50\n",
            "782/782 [==============================] - 6s 8ms/step - loss: 0.0037 - accuracy: 0.9989 - val_loss: 0.1133 - val_accuracy: 0.9795\n",
            "Epoch 15/50\n",
            "782/782 [==============================] - 6s 8ms/step - loss: 0.0024 - accuracy: 0.9994 - val_loss: 0.1145 - val_accuracy: 0.9785\n",
            "Epoch 16/50\n",
            "782/782 [==============================] - 6s 8ms/step - loss: 0.0023 - accuracy: 0.9994 - val_loss: 0.1122 - val_accuracy: 0.9802\n",
            "Epoch 17/50\n",
            "782/782 [==============================] - 6s 8ms/step - loss: 0.0012 - accuracy: 0.9996 - val_loss: 0.1234 - val_accuracy: 0.9788\n",
            "Epoch 18/50\n",
            "782/782 [==============================] - 6s 8ms/step - loss: 0.0012 - accuracy: 0.9997 - val_loss: 0.1272 - val_accuracy: 0.9779\n",
            "Epoch 19/50\n",
            "782/782 [==============================] - 6s 8ms/step - loss: 0.0011 - accuracy: 0.9996 - val_loss: 0.1253 - val_accuracy: 0.9783\n",
            "Epoch 20/50\n",
            "782/782 [==============================] - 6s 8ms/step - loss: 5.8680e-04 - accuracy: 0.9998 - val_loss: 0.1282 - val_accuracy: 0.9799\n",
            "Epoch 21/50\n",
            "782/782 [==============================] - 6s 8ms/step - loss: 5.0748e-04 - accuracy: 0.9998 - val_loss: 0.1332 - val_accuracy: 0.9804\n",
            "Epoch 22/50\n",
            "782/782 [==============================] - 6s 8ms/step - loss: 5.4574e-04 - accuracy: 0.9998 - val_loss: 0.1418 - val_accuracy: 0.9795\n",
            "Epoch 23/50\n",
            "782/782 [==============================] - 6s 8ms/step - loss: 2.6948e-04 - accuracy: 0.9999 - val_loss: 0.1415 - val_accuracy: 0.9806\n",
            "Epoch 24/50\n",
            "782/782 [==============================] - 6s 8ms/step - loss: 2.0122e-04 - accuracy: 0.9999 - val_loss: 0.1401 - val_accuracy: 0.9790\n",
            "Epoch 25/50\n",
            "782/782 [==============================] - 6s 8ms/step - loss: 2.3090e-04 - accuracy: 0.9999 - val_loss: 0.1485 - val_accuracy: 0.9810\n",
            "Epoch 26/50\n",
            "782/782 [==============================] - 6s 8ms/step - loss: 8.8780e-05 - accuracy: 1.0000 - val_loss: 0.1594 - val_accuracy: 0.9808\n",
            "Epoch 27/50\n",
            "782/782 [==============================] - 7s 8ms/step - loss: 9.0614e-05 - accuracy: 1.0000 - val_loss: 0.1533 - val_accuracy: 0.9808\n",
            "Epoch 28/50\n",
            "782/782 [==============================] - 6s 8ms/step - loss: 6.2353e-05 - accuracy: 1.0000 - val_loss: 0.1547 - val_accuracy: 0.9805\n",
            "Epoch 29/50\n",
            "782/782 [==============================] - 6s 8ms/step - loss: 6.2133e-05 - accuracy: 1.0000 - val_loss: 0.1635 - val_accuracy: 0.9809\n",
            "Epoch 30/50\n",
            "782/782 [==============================] - 6s 8ms/step - loss: 1.1477e-04 - accuracy: 0.9999 - val_loss: 0.1715 - val_accuracy: 0.9801\n",
            "Epoch 31/50\n",
            "782/782 [==============================] - 6s 8ms/step - loss: 5.5201e-05 - accuracy: 1.0000 - val_loss: 0.1599 - val_accuracy: 0.9814\n",
            "Epoch 32/50\n",
            "782/782 [==============================] - 7s 9ms/step - loss: 4.3066e-05 - accuracy: 1.0000 - val_loss: 0.1756 - val_accuracy: 0.9809\n",
            "Epoch 33/50\n",
            "782/782 [==============================] - 7s 9ms/step - loss: 3.8402e-05 - accuracy: 1.0000 - val_loss: 0.1616 - val_accuracy: 0.9815\n",
            "Epoch 34/50\n",
            "782/782 [==============================] - 6s 8ms/step - loss: 1.3075e-05 - accuracy: 1.0000 - val_loss: 0.1860 - val_accuracy: 0.9812\n",
            "Epoch 35/50\n",
            "782/782 [==============================] - 6s 8ms/step - loss: 7.2345e-05 - accuracy: 1.0000 - val_loss: 0.1753 - val_accuracy: 0.9820\n",
            "Epoch 36/50\n",
            "782/782 [==============================] - 6s 8ms/step - loss: 3.6959e-06 - accuracy: 1.0000 - val_loss: 0.1754 - val_accuracy: 0.9815\n",
            "Epoch 37/50\n",
            "782/782 [==============================] - 7s 8ms/step - loss: 6.6404e-06 - accuracy: 1.0000 - val_loss: 0.1667 - val_accuracy: 0.9824\n",
            "Epoch 38/50\n",
            "782/782 [==============================] - 7s 9ms/step - loss: 1.1607e-07 - accuracy: 1.0000 - val_loss: 0.1730 - val_accuracy: 0.9813\n",
            "Epoch 39/50\n",
            "782/782 [==============================] - 7s 8ms/step - loss: 6.0361e-08 - accuracy: 1.0000 - val_loss: 0.1714 - val_accuracy: 0.9822\n",
            "Epoch 40/50\n",
            "782/782 [==============================] - 6s 8ms/step - loss: 1.3769e-07 - accuracy: 1.0000 - val_loss: 0.1717 - val_accuracy: 0.9818\n",
            "Epoch 41/50\n",
            "782/782 [==============================] - 6s 8ms/step - loss: 1.0912e-08 - accuracy: 1.0000 - val_loss: 0.1720 - val_accuracy: 0.9820\n",
            "Epoch 42/50\n",
            "782/782 [==============================] - 6s 8ms/step - loss: 7.9905e-09 - accuracy: 1.0000 - val_loss: 0.1731 - val_accuracy: 0.9823\n",
            "Epoch 43/50\n",
            "782/782 [==============================] - 6s 8ms/step - loss: 9.9154e-09 - accuracy: 1.0000 - val_loss: 0.1761 - val_accuracy: 0.9815\n",
            "Epoch 44/50\n",
            "782/782 [==============================] - 7s 8ms/step - loss: 6.4648e-09 - accuracy: 1.0000 - val_loss: 0.1767 - val_accuracy: 0.9814\n",
            "Epoch 45/50\n",
            "782/782 [==============================] - 7s 8ms/step - loss: 6.1840e-09 - accuracy: 1.0000 - val_loss: 0.1781 - val_accuracy: 0.9815\n",
            "Epoch 46/50\n",
            "782/782 [==============================] - 6s 8ms/step - loss: 5.9575e-09 - accuracy: 1.0000 - val_loss: 0.1785 - val_accuracy: 0.9814\n",
            "Epoch 47/50\n",
            "782/782 [==============================] - 6s 8ms/step - loss: 5.8257e-09 - accuracy: 1.0000 - val_loss: 0.1792 - val_accuracy: 0.9816\n",
            "Epoch 48/50\n",
            "782/782 [==============================] - 6s 8ms/step - loss: 5.5809e-09 - accuracy: 1.0000 - val_loss: 0.1805 - val_accuracy: 0.9811\n",
            "Epoch 49/50\n",
            "782/782 [==============================] - 6s 8ms/step - loss: 5.2579e-09 - accuracy: 1.0000 - val_loss: 0.1812 - val_accuracy: 0.9816\n",
            "Epoch 50/50\n",
            "782/782 [==============================] - 6s 8ms/step - loss: 5.2555e-09 - accuracy: 1.0000 - val_loss: 0.1825 - val_accuracy: 0.9811\n"
          ],
          "name": "stdout"
        }
      ]
    },
    {
      "cell_type": "code",
      "metadata": {
        "colab": {
          "base_uri": "https://localhost:8080/",
          "height": 356
        },
        "id": "zco2SZRGcAcH",
        "outputId": "d4449e66-d498-41ef-8640-e1a79426481f"
      },
      "source": [
        "plt.figure(figsize=(10, 5))\n",
        "plt.plot(history.epoch, history.history['loss'], 'bo', label='Train_Loss')\n",
        "plt.plot(history.epoch, history.history['val_loss'], 'r', label='Val_Loss')\n",
        "plt.xlabel(\"Epochs\", size = 16)\n",
        "plt.ylabel(\"Loss\", size = 16)\n",
        "plt.legend()"
      ],
      "execution_count": null,
      "outputs": [
        {
          "output_type": "execute_result",
          "data": {
            "text/plain": [
              "<matplotlib.legend.Legend at 0x7fd7de7c2f10>"
            ]
          },
          "metadata": {
            "tags": []
          },
          "execution_count": 13
        },
        {
          "output_type": "display_data",
          "data": {
            "image/png": "[encoded data removed]",
            "text/plain": [
              "<Figure size 720x360 with 1 Axes>"
            ]
          },
          "metadata": {
            "tags": [],
            "needs_background": "light"
          }
        }
      ]
    },
    {
      "cell_type": "code",
      "metadata": {
        "colab": {
          "base_uri": "https://localhost:8080/",
          "height": 356
        },
        "id": "xKCU3jAhchbF",
        "outputId": "c03657c9-1820-4f1b-ea55-c31091d0a369"
      },
      "source": [
        "plt.figure(figsize=(10, 5))\n",
        "plt.plot(history.epoch, history.history['accuracy'], 'bo', label='Train_accuracy')\n",
        "plt.plot(history.epoch, history.history['val_accuracy'], 'r', label='val_accuracy')\n",
        "plt.xlabel(\"Epochs\", size = 16)\n",
        "plt.ylabel(\"Accuracy\", size = 16)\n",
        "plt.legend()"
      ],
      "execution_count": null,
      "outputs": [
        {
          "output_type": "execute_result",
          "data": {
            "text/plain": [
              "<matplotlib.legend.Legend at 0x7fd7db718b90>"
            ]
          },
          "metadata": {
            "tags": []
          },
          "execution_count": 14
        },
        {
          "output_type": "display_data",
          "data": {
            "image/png": "[encoded data removed]",
            "text/plain": [
              "<Figure size 720x360 with 1 Axes>"
            ]
          },
          "metadata": {
            "tags": [],
            "needs_background": "light"
          }
        }
      ]
    },
    {
      "cell_type": "markdown",
      "metadata": {
        "id": "wlPRujmfeIp5"
      },
      "source": [
        "### 6 - Evaluate"
      ]
    },
    {
      "cell_type": "code",
      "metadata": {
        "colab": {
          "base_uri": "https://localhost:8080/"
        },
        "id": "0P8qksGAdXAQ",
        "outputId": "d54de1d9-750b-42ef-a845-449dbfc68374"
      },
      "source": [
        "network.evaluate(x_test, y_test)"
      ],
      "execution_count": null,
      "outputs": [
        {
          "output_type": "stream",
          "text": [
            "313/313 [==============================] - 1s 3ms/step - loss: 44.8906 - accuracy: 0.9827\n"
          ],
          "name": "stdout"
        },
        {
          "output_type": "execute_result",
          "data": {
            "text/plain": [
              "[44.890621185302734, 0.982699990272522]"
            ]
          },
          "metadata": {
            "tags": []
          },
          "execution_count": 15
        }
      ]
    }
  ]
}